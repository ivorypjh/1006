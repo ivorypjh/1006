{
 "cells": [
  {
   "cell_type": "markdown",
   "metadata": {},
   "source": [
    "## Dockerfile 연습"
   ]
  },
  {
   "cell_type": "code",
   "execution_count": null,
   "metadata": {},
   "outputs": [],
   "source": [
    "FROM ubuntu:20.04\n",
    "FROM python:3.9-slim-buste\n",
    "\n",
    "RUN apt update\n",
    "RUN apt -y install nginx\n",
    "RUN apt -y install git\n",
    "\n",
    "# exec 방식\n",
    "RUN [\"/bin/bash\", \"-c\", \"apt update\"]\n",
    "RUN [\"/bin/bash\", \"-c\", \"apt -y install nginx git\"]\n",
    "\n",
    "\n",
    "# shell 방식\n",
    "RUN apt update && apt install -y nginx git ....\n",
    "# 계속 이어서 작성이 가능\n",
    "\n",
    "ENTRYPOINT [\"python\"]\n",
    "CMD [\"runapp.py\"]\n",
    "# python runapp.py 라는 명령을 처음에 실행하게 됨"
   ]
  },
  {
   "cell_type": "code",
   "execution_count": null,
   "metadata": {},
   "outputs": [],
   "source": [
    "## Dockerfile 을 이용해서 명령어 실행\n",
    "\n",
    "# ubuntu 설치\n",
    "FROM ubuntu:20.04\n",
    "\n",
    "# 필요한 패키지 설치\n",
    "RUN apt-get update\n",
    "RUN apt-get install -y tzdata\n",
    "RUN apt-get install -y apache2\n",
    "RUN apt-get install -y php\n",
    "\n",
    "# 서비스 시작은 apt 명령이 아니므로 여기에서 사용하지 않음\n",
    "\n",
    "# echo 는 출력인데 > 를 사용해서 출력 내용을 파일에 작성\n",
    "# vim 을 통해 작성한 것과 같은 기능\n",
    "RUN echo '<h2>Test Dockerfile</h2>' > /var/www/html/index.html\n",
    "RUN echo '<?php phpinfo(); ?>' > var/www/html/index.php\n",
    "\n",
    "# 작업 디렉토리 설정 - RUN, CMD, ENTRYPOINT 명령어가 실행되는 디렉토리를 설정\n",
    "WORKDIR /var/www/html\n",
    "\n",
    "# 포트 개방 - 80번 포트 사용\n",
    "EXPOSE 80\n",
    "\n",
    "# 서비스 시작 - apache 의 디렉토리를 사용\n",
    "CMD [\"usr/sbin/apache2ctl\", \"-D\", \"FOREGROUND\"]"
   ]
  },
  {
   "cell_type": "code",
   "execution_count": null,
   "metadata": {},
   "outputs": [],
   "source": [
    "## Dockerfile 빌드\n",
    "\n",
    "docker build -t myphpapp:1.0 .\n",
    "\n",
    "# 파일을 찾지 못하는 경우 - txt 파일로 저장되어 있기 때문임\n",
    "docker build -t myphpapp:1.0 -f ./Dockerfile.txt ."
   ]
  }
 ],
 "metadata": {
  "language_info": {
   "name": "python"
  }
 },
 "nbformat": 4,
 "nbformat_minor": 2
}
